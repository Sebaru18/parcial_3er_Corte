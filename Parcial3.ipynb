{
  "nbformat": 4,
  "nbformat_minor": 0,
  "metadata": {
    "colab": {
      "provenance": []
    },
    "kernelspec": {
      "name": "python3",
      "display_name": "Python 3"
    },
    "language_info": {
      "name": "python"
    }
  },
  "cells": [
    {
      "cell_type": "markdown",
      "source": [
        "# Universidad Sergio Arboleda\n",
        "//////////////////////////////////////////////////////////////////////\n",
        "##Autor:_ _ _ _ _Sebastian Andres Ruiz Garcia\n",
        "##Programa:_ _Generador de números Primos \n",
        "##Tema:_ _ _ _ _Medida de rendimiento Cython/Python\n",
        "##PARCIAL 3"
      ],
      "metadata": {
        "id": "6WX9GwG8H_sa"
      }
    },
    {
      "cell_type": "markdown",
      "source": [
        "## Ejercicio 1"
      ],
      "metadata": {
        "id": "F8GqgKNTkk0P"
      }
    },
    {
      "cell_type": "markdown",
      "source": [
        "A continuacion Se mostraran los resultados del tiempo de ejecución en python y en cython, acerca de la generación de números primos, para esto, se mostrara en una tabla, pues se traera el archivo csv generado al ejecutar el performance.py"
      ],
      "metadata": {
        "id": "emGCAJAgJHLj"
      }
    },
    {
      "cell_type": "code",
      "execution_count": 41,
      "metadata": {
        "colab": {
          "base_uri": "https://localhost:8080/",
          "height": 206
        },
        "id": "bH-ObYDrx9CW",
        "outputId": "d0214ab8-0340-4ad1-c34d-609ea60d3e2e"
      },
      "outputs": [
        {
          "output_type": "execute_result",
          "data": {
            "text/plain": [
              "    python    cython\n",
              "0  0.27128  0.001180\n",
              "1  0.26834  0.001161\n",
              "2  0.27815  0.001324\n",
              "3  0.26250  0.001153\n",
              "4  0.28322  0.001355"
            ],
            "text/html": [
              "\n",
              "  <div id=\"df-711e614f-5e61-4383-95c8-5ed2b6bd2e31\">\n",
              "    <div class=\"colab-df-container\">\n",
              "      <div>\n",
              "<style scoped>\n",
              "    .dataframe tbody tr th:only-of-type {\n",
              "        vertical-align: middle;\n",
              "    }\n",
              "\n",
              "    .dataframe tbody tr th {\n",
              "        vertical-align: top;\n",
              "    }\n",
              "\n",
              "    .dataframe thead th {\n",
              "        text-align: right;\n",
              "    }\n",
              "</style>\n",
              "<table border=\"1\" class=\"dataframe\">\n",
              "  <thead>\n",
              "    <tr style=\"text-align: right;\">\n",
              "      <th></th>\n",
              "      <th>python</th>\n",
              "      <th>cython</th>\n",
              "    </tr>\n",
              "  </thead>\n",
              "  <tbody>\n",
              "    <tr>\n",
              "      <th>0</th>\n",
              "      <td>0.27128</td>\n",
              "      <td>0.001180</td>\n",
              "    </tr>\n",
              "    <tr>\n",
              "      <th>1</th>\n",
              "      <td>0.26834</td>\n",
              "      <td>0.001161</td>\n",
              "    </tr>\n",
              "    <tr>\n",
              "      <th>2</th>\n",
              "      <td>0.27815</td>\n",
              "      <td>0.001324</td>\n",
              "    </tr>\n",
              "    <tr>\n",
              "      <th>3</th>\n",
              "      <td>0.26250</td>\n",
              "      <td>0.001153</td>\n",
              "    </tr>\n",
              "    <tr>\n",
              "      <th>4</th>\n",
              "      <td>0.28322</td>\n",
              "      <td>0.001355</td>\n",
              "    </tr>\n",
              "  </tbody>\n",
              "</table>\n",
              "</div>\n",
              "      <button class=\"colab-df-convert\" onclick=\"convertToInteractive('df-711e614f-5e61-4383-95c8-5ed2b6bd2e31')\"\n",
              "              title=\"Convert this dataframe to an interactive table.\"\n",
              "              style=\"display:none;\">\n",
              "        \n",
              "  <svg xmlns=\"http://www.w3.org/2000/svg\" height=\"24px\"viewBox=\"0 0 24 24\"\n",
              "       width=\"24px\">\n",
              "    <path d=\"M0 0h24v24H0V0z\" fill=\"none\"/>\n",
              "    <path d=\"M18.56 5.44l.94 2.06.94-2.06 2.06-.94-2.06-.94-.94-2.06-.94 2.06-2.06.94zm-11 1L8.5 8.5l.94-2.06 2.06-.94-2.06-.94L8.5 2.5l-.94 2.06-2.06.94zm10 10l.94 2.06.94-2.06 2.06-.94-2.06-.94-.94-2.06-.94 2.06-2.06.94z\"/><path d=\"M17.41 7.96l-1.37-1.37c-.4-.4-.92-.59-1.43-.59-.52 0-1.04.2-1.43.59L10.3 9.45l-7.72 7.72c-.78.78-.78 2.05 0 2.83L4 21.41c.39.39.9.59 1.41.59.51 0 1.02-.2 1.41-.59l7.78-7.78 2.81-2.81c.8-.78.8-2.07 0-2.86zM5.41 20L4 18.59l7.72-7.72 1.47 1.35L5.41 20z\"/>\n",
              "  </svg>\n",
              "      </button>\n",
              "      \n",
              "  <style>\n",
              "    .colab-df-container {\n",
              "      display:flex;\n",
              "      flex-wrap:wrap;\n",
              "      gap: 12px;\n",
              "    }\n",
              "\n",
              "    .colab-df-convert {\n",
              "      background-color: #E8F0FE;\n",
              "      border: none;\n",
              "      border-radius: 50%;\n",
              "      cursor: pointer;\n",
              "      display: none;\n",
              "      fill: #1967D2;\n",
              "      height: 32px;\n",
              "      padding: 0 0 0 0;\n",
              "      width: 32px;\n",
              "    }\n",
              "\n",
              "    .colab-df-convert:hover {\n",
              "      background-color: #E2EBFA;\n",
              "      box-shadow: 0px 1px 2px rgba(60, 64, 67, 0.3), 0px 1px 3px 1px rgba(60, 64, 67, 0.15);\n",
              "      fill: #174EA6;\n",
              "    }\n",
              "\n",
              "    [theme=dark] .colab-df-convert {\n",
              "      background-color: #3B4455;\n",
              "      fill: #D2E3FC;\n",
              "    }\n",
              "\n",
              "    [theme=dark] .colab-df-convert:hover {\n",
              "      background-color: #434B5C;\n",
              "      box-shadow: 0px 1px 3px 1px rgba(0, 0, 0, 0.15);\n",
              "      filter: drop-shadow(0px 1px 2px rgba(0, 0, 0, 0.3));\n",
              "      fill: #FFFFFF;\n",
              "    }\n",
              "  </style>\n",
              "\n",
              "      <script>\n",
              "        const buttonEl =\n",
              "          document.querySelector('#df-711e614f-5e61-4383-95c8-5ed2b6bd2e31 button.colab-df-convert');\n",
              "        buttonEl.style.display =\n",
              "          google.colab.kernel.accessAllowed ? 'block' : 'none';\n",
              "\n",
              "        async function convertToInteractive(key) {\n",
              "          const element = document.querySelector('#df-711e614f-5e61-4383-95c8-5ed2b6bd2e31');\n",
              "          const dataTable =\n",
              "            await google.colab.kernel.invokeFunction('convertToInteractive',\n",
              "                                                     [key], {});\n",
              "          if (!dataTable) return;\n",
              "\n",
              "          const docLinkHtml = 'Like what you see? Visit the ' +\n",
              "            '<a target=\"_blank\" href=https://colab.research.google.com/notebooks/data_table.ipynb>data table notebook</a>'\n",
              "            + ' to learn more about interactive tables.';\n",
              "          element.innerHTML = '';\n",
              "          dataTable['output_type'] = 'display_data';\n",
              "          await google.colab.output.renderOutput(dataTable, element);\n",
              "          const docLink = document.createElement('div');\n",
              "          docLink.innerHTML = docLinkHtml;\n",
              "          element.appendChild(docLink);\n",
              "        }\n",
              "      </script>\n",
              "    </div>\n",
              "  </div>\n",
              "  "
            ]
          },
          "metadata": {},
          "execution_count": 41
        }
      ],
      "source": [
        "import pandas as pd\n",
        "import matplotlib.pyplot as plt\n",
        "\n",
        "resultados = pd.read_csv('/content/datos.csv')\n",
        "resultados.head()"
      ]
    },
    {
      "cell_type": "markdown",
      "source": [
        "Como se evidencia, los datos de la izquierda son los de python y los de la derecha son los datos de cython."
      ],
      "metadata": {
        "id": "RwTRMPTiKTYl"
      }
    },
    {
      "cell_type": "code",
      "source": [
        "resultados"
      ],
      "metadata": {
        "colab": {
          "base_uri": "https://localhost:8080/",
          "height": 990
        },
        "id": "K0JTrvJNKbry",
        "outputId": "42539011-ca28-4815-8e7d-247f0c1a5fc6"
      },
      "execution_count": 42,
      "outputs": [
        {
          "output_type": "execute_result",
          "data": {
            "text/plain": [
              "     python    cython\n",
              "0   0.27128  0.001180\n",
              "1   0.26834  0.001161\n",
              "2   0.27815  0.001324\n",
              "3   0.26250  0.001153\n",
              "4   0.28322  0.001355\n",
              "5   0.27735  0.001206\n",
              "6   0.26904  0.001323\n",
              "7   0.25955  0.001204\n",
              "8   0.27283  0.001250\n",
              "9   0.26824  0.001241\n",
              "10  0.28291  0.001496\n",
              "11  0.27361  0.001299\n",
              "12  0.28255  0.001331\n",
              "13  0.27109  0.001210\n",
              "14  0.28356  0.001190\n",
              "15  0.26458  0.001260\n",
              "16  0.27094  0.001215\n",
              "17  0.26493  0.001251\n",
              "18  0.27674  0.001317\n",
              "19  0.26502  0.001150\n",
              "20  0.29646  0.001257\n",
              "21  0.26590  0.001237\n",
              "22  0.27291  0.001165\n",
              "23  0.26477  0.001248\n",
              "24  0.27773  0.001267\n",
              "25  0.27631  0.001170\n",
              "26  0.27595  0.001186\n",
              "27  0.26929  0.001287\n",
              "28  0.27905  0.001184\n",
              "29  0.26778  0.001180"
            ],
            "text/html": [
              "\n",
              "  <div id=\"df-57caff7d-3435-4471-b239-e95fba83096f\">\n",
              "    <div class=\"colab-df-container\">\n",
              "      <div>\n",
              "<style scoped>\n",
              "    .dataframe tbody tr th:only-of-type {\n",
              "        vertical-align: middle;\n",
              "    }\n",
              "\n",
              "    .dataframe tbody tr th {\n",
              "        vertical-align: top;\n",
              "    }\n",
              "\n",
              "    .dataframe thead th {\n",
              "        text-align: right;\n",
              "    }\n",
              "</style>\n",
              "<table border=\"1\" class=\"dataframe\">\n",
              "  <thead>\n",
              "    <tr style=\"text-align: right;\">\n",
              "      <th></th>\n",
              "      <th>python</th>\n",
              "      <th>cython</th>\n",
              "    </tr>\n",
              "  </thead>\n",
              "  <tbody>\n",
              "    <tr>\n",
              "      <th>0</th>\n",
              "      <td>0.27128</td>\n",
              "      <td>0.001180</td>\n",
              "    </tr>\n",
              "    <tr>\n",
              "      <th>1</th>\n",
              "      <td>0.26834</td>\n",
              "      <td>0.001161</td>\n",
              "    </tr>\n",
              "    <tr>\n",
              "      <th>2</th>\n",
              "      <td>0.27815</td>\n",
              "      <td>0.001324</td>\n",
              "    </tr>\n",
              "    <tr>\n",
              "      <th>3</th>\n",
              "      <td>0.26250</td>\n",
              "      <td>0.001153</td>\n",
              "    </tr>\n",
              "    <tr>\n",
              "      <th>4</th>\n",
              "      <td>0.28322</td>\n",
              "      <td>0.001355</td>\n",
              "    </tr>\n",
              "    <tr>\n",
              "      <th>5</th>\n",
              "      <td>0.27735</td>\n",
              "      <td>0.001206</td>\n",
              "    </tr>\n",
              "    <tr>\n",
              "      <th>6</th>\n",
              "      <td>0.26904</td>\n",
              "      <td>0.001323</td>\n",
              "    </tr>\n",
              "    <tr>\n",
              "      <th>7</th>\n",
              "      <td>0.25955</td>\n",
              "      <td>0.001204</td>\n",
              "    </tr>\n",
              "    <tr>\n",
              "      <th>8</th>\n",
              "      <td>0.27283</td>\n",
              "      <td>0.001250</td>\n",
              "    </tr>\n",
              "    <tr>\n",
              "      <th>9</th>\n",
              "      <td>0.26824</td>\n",
              "      <td>0.001241</td>\n",
              "    </tr>\n",
              "    <tr>\n",
              "      <th>10</th>\n",
              "      <td>0.28291</td>\n",
              "      <td>0.001496</td>\n",
              "    </tr>\n",
              "    <tr>\n",
              "      <th>11</th>\n",
              "      <td>0.27361</td>\n",
              "      <td>0.001299</td>\n",
              "    </tr>\n",
              "    <tr>\n",
              "      <th>12</th>\n",
              "      <td>0.28255</td>\n",
              "      <td>0.001331</td>\n",
              "    </tr>\n",
              "    <tr>\n",
              "      <th>13</th>\n",
              "      <td>0.27109</td>\n",
              "      <td>0.001210</td>\n",
              "    </tr>\n",
              "    <tr>\n",
              "      <th>14</th>\n",
              "      <td>0.28356</td>\n",
              "      <td>0.001190</td>\n",
              "    </tr>\n",
              "    <tr>\n",
              "      <th>15</th>\n",
              "      <td>0.26458</td>\n",
              "      <td>0.001260</td>\n",
              "    </tr>\n",
              "    <tr>\n",
              "      <th>16</th>\n",
              "      <td>0.27094</td>\n",
              "      <td>0.001215</td>\n",
              "    </tr>\n",
              "    <tr>\n",
              "      <th>17</th>\n",
              "      <td>0.26493</td>\n",
              "      <td>0.001251</td>\n",
              "    </tr>\n",
              "    <tr>\n",
              "      <th>18</th>\n",
              "      <td>0.27674</td>\n",
              "      <td>0.001317</td>\n",
              "    </tr>\n",
              "    <tr>\n",
              "      <th>19</th>\n",
              "      <td>0.26502</td>\n",
              "      <td>0.001150</td>\n",
              "    </tr>\n",
              "    <tr>\n",
              "      <th>20</th>\n",
              "      <td>0.29646</td>\n",
              "      <td>0.001257</td>\n",
              "    </tr>\n",
              "    <tr>\n",
              "      <th>21</th>\n",
              "      <td>0.26590</td>\n",
              "      <td>0.001237</td>\n",
              "    </tr>\n",
              "    <tr>\n",
              "      <th>22</th>\n",
              "      <td>0.27291</td>\n",
              "      <td>0.001165</td>\n",
              "    </tr>\n",
              "    <tr>\n",
              "      <th>23</th>\n",
              "      <td>0.26477</td>\n",
              "      <td>0.001248</td>\n",
              "    </tr>\n",
              "    <tr>\n",
              "      <th>24</th>\n",
              "      <td>0.27773</td>\n",
              "      <td>0.001267</td>\n",
              "    </tr>\n",
              "    <tr>\n",
              "      <th>25</th>\n",
              "      <td>0.27631</td>\n",
              "      <td>0.001170</td>\n",
              "    </tr>\n",
              "    <tr>\n",
              "      <th>26</th>\n",
              "      <td>0.27595</td>\n",
              "      <td>0.001186</td>\n",
              "    </tr>\n",
              "    <tr>\n",
              "      <th>27</th>\n",
              "      <td>0.26929</td>\n",
              "      <td>0.001287</td>\n",
              "    </tr>\n",
              "    <tr>\n",
              "      <th>28</th>\n",
              "      <td>0.27905</td>\n",
              "      <td>0.001184</td>\n",
              "    </tr>\n",
              "    <tr>\n",
              "      <th>29</th>\n",
              "      <td>0.26778</td>\n",
              "      <td>0.001180</td>\n",
              "    </tr>\n",
              "  </tbody>\n",
              "</table>\n",
              "</div>\n",
              "      <button class=\"colab-df-convert\" onclick=\"convertToInteractive('df-57caff7d-3435-4471-b239-e95fba83096f')\"\n",
              "              title=\"Convert this dataframe to an interactive table.\"\n",
              "              style=\"display:none;\">\n",
              "        \n",
              "  <svg xmlns=\"http://www.w3.org/2000/svg\" height=\"24px\"viewBox=\"0 0 24 24\"\n",
              "       width=\"24px\">\n",
              "    <path d=\"M0 0h24v24H0V0z\" fill=\"none\"/>\n",
              "    <path d=\"M18.56 5.44l.94 2.06.94-2.06 2.06-.94-2.06-.94-.94-2.06-.94 2.06-2.06.94zm-11 1L8.5 8.5l.94-2.06 2.06-.94-2.06-.94L8.5 2.5l-.94 2.06-2.06.94zm10 10l.94 2.06.94-2.06 2.06-.94-2.06-.94-.94-2.06-.94 2.06-2.06.94z\"/><path d=\"M17.41 7.96l-1.37-1.37c-.4-.4-.92-.59-1.43-.59-.52 0-1.04.2-1.43.59L10.3 9.45l-7.72 7.72c-.78.78-.78 2.05 0 2.83L4 21.41c.39.39.9.59 1.41.59.51 0 1.02-.2 1.41-.59l7.78-7.78 2.81-2.81c.8-.78.8-2.07 0-2.86zM5.41 20L4 18.59l7.72-7.72 1.47 1.35L5.41 20z\"/>\n",
              "  </svg>\n",
              "      </button>\n",
              "      \n",
              "  <style>\n",
              "    .colab-df-container {\n",
              "      display:flex;\n",
              "      flex-wrap:wrap;\n",
              "      gap: 12px;\n",
              "    }\n",
              "\n",
              "    .colab-df-convert {\n",
              "      background-color: #E8F0FE;\n",
              "      border: none;\n",
              "      border-radius: 50%;\n",
              "      cursor: pointer;\n",
              "      display: none;\n",
              "      fill: #1967D2;\n",
              "      height: 32px;\n",
              "      padding: 0 0 0 0;\n",
              "      width: 32px;\n",
              "    }\n",
              "\n",
              "    .colab-df-convert:hover {\n",
              "      background-color: #E2EBFA;\n",
              "      box-shadow: 0px 1px 2px rgba(60, 64, 67, 0.3), 0px 1px 3px 1px rgba(60, 64, 67, 0.15);\n",
              "      fill: #174EA6;\n",
              "    }\n",
              "\n",
              "    [theme=dark] .colab-df-convert {\n",
              "      background-color: #3B4455;\n",
              "      fill: #D2E3FC;\n",
              "    }\n",
              "\n",
              "    [theme=dark] .colab-df-convert:hover {\n",
              "      background-color: #434B5C;\n",
              "      box-shadow: 0px 1px 3px 1px rgba(0, 0, 0, 0.15);\n",
              "      filter: drop-shadow(0px 1px 2px rgba(0, 0, 0, 0.3));\n",
              "      fill: #FFFFFF;\n",
              "    }\n",
              "  </style>\n",
              "\n",
              "      <script>\n",
              "        const buttonEl =\n",
              "          document.querySelector('#df-57caff7d-3435-4471-b239-e95fba83096f button.colab-df-convert');\n",
              "        buttonEl.style.display =\n",
              "          google.colab.kernel.accessAllowed ? 'block' : 'none';\n",
              "\n",
              "        async function convertToInteractive(key) {\n",
              "          const element = document.querySelector('#df-57caff7d-3435-4471-b239-e95fba83096f');\n",
              "          const dataTable =\n",
              "            await google.colab.kernel.invokeFunction('convertToInteractive',\n",
              "                                                     [key], {});\n",
              "          if (!dataTable) return;\n",
              "\n",
              "          const docLinkHtml = 'Like what you see? Visit the ' +\n",
              "            '<a target=\"_blank\" href=https://colab.research.google.com/notebooks/data_table.ipynb>data table notebook</a>'\n",
              "            + ' to learn more about interactive tables.';\n",
              "          element.innerHTML = '';\n",
              "          dataTable['output_type'] = 'display_data';\n",
              "          await google.colab.output.renderOutput(dataTable, element);\n",
              "          const docLink = document.createElement('div');\n",
              "          docLink.innerHTML = docLinkHtml;\n",
              "          element.appendChild(docLink);\n",
              "        }\n",
              "      </script>\n",
              "    </div>\n",
              "  </div>\n",
              "  "
            ]
          },
          "metadata": {},
          "execution_count": 42
        }
      ]
    },
    {
      "cell_type": "markdown",
      "source": [
        "Ahora se generara un promedio de tiempo, y se compara los resultados de Python y Cython"
      ],
      "metadata": {
        "id": "MrM18D38KfjK"
      }
    },
    {
      "cell_type": "code",
      "source": [
        "print(\"El promedio de tiempo en Python es de: \", resultados['python'].mean())"
      ],
      "metadata": {
        "colab": {
          "base_uri": "https://localhost:8080/"
        },
        "id": "22OHOUjaKevL",
        "outputId": "54e4aaf1-2d64-4d2c-c990-71f60398e0e9"
      },
      "execution_count": 43,
      "outputs": [
        {
          "output_type": "stream",
          "name": "stdout",
          "text": [
            "El promedio de tiempo en Python es de:  0.273086\n"
          ]
        }
      ]
    },
    {
      "cell_type": "code",
      "source": [
        "print(\"El promedio de tiempo en Cython es de: \", resultados['cython'].mean())"
      ],
      "metadata": {
        "colab": {
          "base_uri": "https://localhost:8080/"
        },
        "id": "OLmdbUYpKy5C",
        "outputId": "67698aa1-7ed0-4e87-82b0-f8efb73b02ab"
      },
      "execution_count": 44,
      "outputs": [
        {
          "output_type": "stream",
          "name": "stdout",
          "text": [
            "El promedio de tiempo en Cython es de:  0.001243233333333333\n"
          ]
        }
      ]
    },
    {
      "cell_type": "markdown",
      "source": [
        "Siendo notoria la mejoria de rendimiento en cython pues es el promedio es de 0.0012432 segundos.\n",
        "\n",
        "Mientras que en python el promedio que se demora en realizar la ejecución es de 0.293086 segundos."
      ],
      "metadata": {
        "id": "p4TmhocMMqHT"
      }
    },
    {
      "cell_type": "code",
      "source": [
        "diferencia = resultados['python'].mean() - resultados['cython'].mean()\n",
        "print(\"La diferencia de tiempos es de: \", diferencia)"
      ],
      "metadata": {
        "colab": {
          "base_uri": "https://localhost:8080/"
        },
        "id": "5u99hh5RNDpD",
        "outputId": "8236dfaf-75d7-41aa-fb77-d97222618dce"
      },
      "execution_count": 45,
      "outputs": [
        {
          "output_type": "stream",
          "name": "stdout",
          "text": [
            "La diferencia de tiempos es de:  0.2718427666666667\n"
          ]
        }
      ]
    },
    {
      "cell_type": "markdown",
      "source": [
        "siendo cython aproximadamente 0.2718427 segundos mas rapido que python\n",
        "\n"
      ],
      "metadata": {
        "id": "Mcsn_MdENdOy"
      }
    },
    {
      "cell_type": "code",
      "source": [
        "resultados.plot()\n",
        "plt.show()"
      ],
      "metadata": {
        "colab": {
          "base_uri": "https://localhost:8080/",
          "height": 265
        },
        "id": "QcC8nBx6LJDy",
        "outputId": "6735d03f-08e5-4d9b-e633-152e94560f11"
      },
      "execution_count": 46,
      "outputs": [
        {
          "output_type": "display_data",
          "data": {
            "text/plain": [
              "<Figure size 432x288 with 1 Axes>"
            ],
            "image/png": "[encoded data removed]"
          },
          "metadata": {
            "needs_background": "light"
          }
        }
      ]
    },
    {
      "cell_type": "code",
      "source": [
        "resultados.plot(kind = 'bar', width=0.5, subplots=True,  figsize=(8,15))\n",
        "plt.show"
      ],
      "metadata": {
        "colab": {
          "base_uri": "https://localhost:8080/",
          "height": 899
        },
        "id": "TnEx377oLUMZ",
        "outputId": "dd201907-db9c-4e9f-8400-9962e19ee7ef"
      },
      "execution_count": 47,
      "outputs": [
        {
          "output_type": "execute_result",
          "data": {
            "text/plain": [
              "<function matplotlib.pyplot.show(*args, **kw)>"
            ]
          },
          "metadata": {},
          "execution_count": 47
        },
        {
          "output_type": "display_data",
          "data": {
            "text/plain": [
              "<Figure size 576x1080 with 2 Axes>"
            ],
            "image/png": "[encoded data removed]"
          },
          "metadata": {
            "needs_background": "light"
          }
        }
      ]
    },
    {
      "cell_type": "markdown",
      "source": [
        "Se concluye que para este trabajo de encontrar los números primos, es muy eficiente usar Cython en vez de python, pues solo al convertirlo se puede ver una mejoria en los tiempos, ya que en cython se demora 0.00124 segundo que no es nada para lo que se demora python (0.27 segundos)"
      ],
      "metadata": {
        "id": "s4zW4qr8P37c"
      }
    },
    {
      "cell_type": "markdown",
      "source": [
        "##//////////////////////////////////////////////////////////////////////////////////////////////////////////////////////////////////////////////////////////////////////////////////////////////////////////////////////////////////////////////////////////////////////////////////////////////////"
      ],
      "metadata": {
        "id": "0jNS8Bglj4AN"
      }
    },
    {
      "cell_type": "markdown",
      "source": [
        "##Ejercicio 2"
      ],
      "metadata": {
        "id": "r4o0PRjqkUv_"
      }
    },
    {
      "cell_type": "markdown",
      "source": [
        "A continuacion Se mostraran los segundos resultados del tiempo de ejecución en python y en cython, acerca del metodo de montecarlo para estimar el valor de pi, para esto, se mostrara los resultados en una tabla, pues se traera el archivo csv generado al ejecutar el performance.py"
      ],
      "metadata": {
        "id": "IuaYxZxHkBle"
      }
    },
    {
      "cell_type": "code",
      "source": [
        "resultados2 = pd.read_csv('/content/datosEjercicio2.csv')\n",
        "resultados2.head()"
      ],
      "metadata": {
        "colab": {
          "base_uri": "https://localhost:8080/",
          "height": 206
        },
        "id": "8zMGYRuwkx_9",
        "outputId": "9bf8280b-dcb7-4ed2-9524-be38446a6a7d"
      },
      "execution_count": 22,
      "outputs": [
        {
          "output_type": "execute_result",
          "data": {
            "text/plain": [
              "    python    cython\n",
              "0  4.38136  0.354633\n",
              "1  4.37619  0.346526\n",
              "2  4.31349  0.356270\n",
              "3  4.45974  0.387207\n",
              "4  4.03867  0.366732"
            ],
            "text/html": [
              "\n",
              "  <div id=\"df-099c3ca3-af62-40c8-902f-b52de2df0f96\">\n",
              "    <div class=\"colab-df-container\">\n",
              "      <div>\n",
              "<style scoped>\n",
              "    .dataframe tbody tr th:only-of-type {\n",
              "        vertical-align: middle;\n",
              "    }\n",
              "\n",
              "    .dataframe tbody tr th {\n",
              "        vertical-align: top;\n",
              "    }\n",
              "\n",
              "    .dataframe thead th {\n",
              "        text-align: right;\n",
              "    }\n",
              "</style>\n",
              "<table border=\"1\" class=\"dataframe\">\n",
              "  <thead>\n",
              "    <tr style=\"text-align: right;\">\n",
              "      <th></th>\n",
              "      <th>python</th>\n",
              "      <th>cython</th>\n",
              "    </tr>\n",
              "  </thead>\n",
              "  <tbody>\n",
              "    <tr>\n",
              "      <th>0</th>\n",
              "      <td>4.38136</td>\n",
              "      <td>0.354633</td>\n",
              "    </tr>\n",
              "    <tr>\n",
              "      <th>1</th>\n",
              "      <td>4.37619</td>\n",
              "      <td>0.346526</td>\n",
              "    </tr>\n",
              "    <tr>\n",
              "      <th>2</th>\n",
              "      <td>4.31349</td>\n",
              "      <td>0.356270</td>\n",
              "    </tr>\n",
              "    <tr>\n",
              "      <th>3</th>\n",
              "      <td>4.45974</td>\n",
              "      <td>0.387207</td>\n",
              "    </tr>\n",
              "    <tr>\n",
              "      <th>4</th>\n",
              "      <td>4.03867</td>\n",
              "      <td>0.366732</td>\n",
              "    </tr>\n",
              "  </tbody>\n",
              "</table>\n",
              "</div>\n",
              "      <button class=\"colab-df-convert\" onclick=\"convertToInteractive('df-099c3ca3-af62-40c8-902f-b52de2df0f96')\"\n",
              "              title=\"Convert this dataframe to an interactive table.\"\n",
              "              style=\"display:none;\">\n",
              "        \n",
              "  <svg xmlns=\"http://www.w3.org/2000/svg\" height=\"24px\"viewBox=\"0 0 24 24\"\n",
              "       width=\"24px\">\n",
              "    <path d=\"M0 0h24v24H0V0z\" fill=\"none\"/>\n",
              "    <path d=\"M18.56 5.44l.94 2.06.94-2.06 2.06-.94-2.06-.94-.94-2.06-.94 2.06-2.06.94zm-11 1L8.5 8.5l.94-2.06 2.06-.94-2.06-.94L8.5 2.5l-.94 2.06-2.06.94zm10 10l.94 2.06.94-2.06 2.06-.94-2.06-.94-.94-2.06-.94 2.06-2.06.94z\"/><path d=\"M17.41 7.96l-1.37-1.37c-.4-.4-.92-.59-1.43-.59-.52 0-1.04.2-1.43.59L10.3 9.45l-7.72 7.72c-.78.78-.78 2.05 0 2.83L4 21.41c.39.39.9.59 1.41.59.51 0 1.02-.2 1.41-.59l7.78-7.78 2.81-2.81c.8-.78.8-2.07 0-2.86zM5.41 20L4 18.59l7.72-7.72 1.47 1.35L5.41 20z\"/>\n",
              "  </svg>\n",
              "      </button>\n",
              "      \n",
              "  <style>\n",
              "    .colab-df-container {\n",
              "      display:flex;\n",
              "      flex-wrap:wrap;\n",
              "      gap: 12px;\n",
              "    }\n",
              "\n",
              "    .colab-df-convert {\n",
              "      background-color: #E8F0FE;\n",
              "      border: none;\n",
              "      border-radius: 50%;\n",
              "      cursor: pointer;\n",
              "      display: none;\n",
              "      fill: #1967D2;\n",
              "      height: 32px;\n",
              "      padding: 0 0 0 0;\n",
              "      width: 32px;\n",
              "    }\n",
              "\n",
              "    .colab-df-convert:hover {\n",
              "      background-color: #E2EBFA;\n",
              "      box-shadow: 0px 1px 2px rgba(60, 64, 67, 0.3), 0px 1px 3px 1px rgba(60, 64, 67, 0.15);\n",
              "      fill: #174EA6;\n",
              "    }\n",
              "\n",
              "    [theme=dark] .colab-df-convert {\n",
              "      background-color: #3B4455;\n",
              "      fill: #D2E3FC;\n",
              "    }\n",
              "\n",
              "    [theme=dark] .colab-df-convert:hover {\n",
              "      background-color: #434B5C;\n",
              "      box-shadow: 0px 1px 3px 1px rgba(0, 0, 0, 0.15);\n",
              "      filter: drop-shadow(0px 1px 2px rgba(0, 0, 0, 0.3));\n",
              "      fill: #FFFFFF;\n",
              "    }\n",
              "  </style>\n",
              "\n",
              "      <script>\n",
              "        const buttonEl =\n",
              "          document.querySelector('#df-099c3ca3-af62-40c8-902f-b52de2df0f96 button.colab-df-convert');\n",
              "        buttonEl.style.display =\n",
              "          google.colab.kernel.accessAllowed ? 'block' : 'none';\n",
              "\n",
              "        async function convertToInteractive(key) {\n",
              "          const element = document.querySelector('#df-099c3ca3-af62-40c8-902f-b52de2df0f96');\n",
              "          const dataTable =\n",
              "            await google.colab.kernel.invokeFunction('convertToInteractive',\n",
              "                                                     [key], {});\n",
              "          if (!dataTable) return;\n",
              "\n",
              "          const docLinkHtml = 'Like what you see? Visit the ' +\n",
              "            '<a target=\"_blank\" href=https://colab.research.google.com/notebooks/data_table.ipynb>data table notebook</a>'\n",
              "            + ' to learn more about interactive tables.';\n",
              "          element.innerHTML = '';\n",
              "          dataTable['output_type'] = 'display_data';\n",
              "          await google.colab.output.renderOutput(dataTable, element);\n",
              "          const docLink = document.createElement('div');\n",
              "          docLink.innerHTML = docLinkHtml;\n",
              "          element.appendChild(docLink);\n",
              "        }\n",
              "      </script>\n",
              "    </div>\n",
              "  </div>\n",
              "  "
            ]
          },
          "metadata": {},
          "execution_count": 22
        }
      ]
    },
    {
      "cell_type": "markdown",
      "source": [
        "Como se evidencia, los datos de la izquierda son los de python y los de la derecha son los datos de cython."
      ],
      "metadata": {
        "id": "g_IkPc4tlLmd"
      }
    },
    {
      "cell_type": "code",
      "source": [
        "resultados2"
      ],
      "metadata": {
        "colab": {
          "base_uri": "https://localhost:8080/",
          "height": 990
        },
        "id": "z5C9yf9xlAQ2",
        "outputId": "94e18867-0a48-4f69-c7ad-23e59dea41bc"
      },
      "execution_count": 23,
      "outputs": [
        {
          "output_type": "execute_result",
          "data": {
            "text/plain": [
              "     python    cython\n",
              "0   4.38136  0.354633\n",
              "1   4.37619  0.346526\n",
              "2   4.31349  0.356270\n",
              "3   4.45974  0.387207\n",
              "4   4.03867  0.366732\n",
              "5   4.22200  0.358278\n",
              "6   4.45522  0.361847\n",
              "7   4.00820  0.361881\n",
              "8   4.17319  0.363331\n",
              "9   4.22990  0.361703\n",
              "10  4.37435  0.351743\n",
              "11  4.36445  0.350852\n",
              "12  3.76802  0.378547\n",
              "13  4.39999  0.364800\n",
              "14  4.30880  0.358616\n",
              "15  4.50225  0.357721\n",
              "16  3.86094  0.375739\n",
              "17  4.42705  0.393227\n",
              "18  4.40481  0.388530\n",
              "19  3.90813  0.374030\n",
              "20  4.34296  0.359512\n",
              "21  4.37292  0.359022\n",
              "22  4.25275  0.391017\n",
              "23  4.19092  0.364604\n",
              "24  4.27034  0.361206\n",
              "25  3.95960  0.367858\n",
              "26  4.40582  0.364842\n",
              "27  4.20002  0.371425\n",
              "28  4.41274  0.367649\n",
              "29  3.91830  0.354818"
            ],
            "text/html": [
              "\n",
              "  <div id=\"df-9e769a3d-32c0-4247-b15b-55f05caaa107\">\n",
              "    <div class=\"colab-df-container\">\n",
              "      <div>\n",
              "<style scoped>\n",
              "    .dataframe tbody tr th:only-of-type {\n",
              "        vertical-align: middle;\n",
              "    }\n",
              "\n",
              "    .dataframe tbody tr th {\n",
              "        vertical-align: top;\n",
              "    }\n",
              "\n",
              "    .dataframe thead th {\n",
              "        text-align: right;\n",
              "    }\n",
              "</style>\n",
              "<table border=\"1\" class=\"dataframe\">\n",
              "  <thead>\n",
              "    <tr style=\"text-align: right;\">\n",
              "      <th></th>\n",
              "      <th>python</th>\n",
              "      <th>cython</th>\n",
              "    </tr>\n",
              "  </thead>\n",
              "  <tbody>\n",
              "    <tr>\n",
              "      <th>0</th>\n",
              "      <td>4.38136</td>\n",
              "      <td>0.354633</td>\n",
              "    </tr>\n",
              "    <tr>\n",
              "      <th>1</th>\n",
              "      <td>4.37619</td>\n",
              "      <td>0.346526</td>\n",
              "    </tr>\n",
              "    <tr>\n",
              "      <th>2</th>\n",
              "      <td>4.31349</td>\n",
              "      <td>0.356270</td>\n",
              "    </tr>\n",
              "    <tr>\n",
              "      <th>3</th>\n",
              "      <td>4.45974</td>\n",
              "      <td>0.387207</td>\n",
              "    </tr>\n",
              "    <tr>\n",
              "      <th>4</th>\n",
              "      <td>4.03867</td>\n",
              "      <td>0.366732</td>\n",
              "    </tr>\n",
              "    <tr>\n",
              "      <th>5</th>\n",
              "      <td>4.22200</td>\n",
              "      <td>0.358278</td>\n",
              "    </tr>\n",
              "    <tr>\n",
              "      <th>6</th>\n",
              "      <td>4.45522</td>\n",
              "      <td>0.361847</td>\n",
              "    </tr>\n",
              "    <tr>\n",
              "      <th>7</th>\n",
              "      <td>4.00820</td>\n",
              "      <td>0.361881</td>\n",
              "    </tr>\n",
              "    <tr>\n",
              "      <th>8</th>\n",
              "      <td>4.17319</td>\n",
              "      <td>0.363331</td>\n",
              "    </tr>\n",
              "    <tr>\n",
              "      <th>9</th>\n",
              "      <td>4.22990</td>\n",
              "      <td>0.361703</td>\n",
              "    </tr>\n",
              "    <tr>\n",
              "      <th>10</th>\n",
              "      <td>4.37435</td>\n",
              "      <td>0.351743</td>\n",
              "    </tr>\n",
              "    <tr>\n",
              "      <th>11</th>\n",
              "      <td>4.36445</td>\n",
              "      <td>0.350852</td>\n",
              "    </tr>\n",
              "    <tr>\n",
              "      <th>12</th>\n",
              "      <td>3.76802</td>\n",
              "      <td>0.378547</td>\n",
              "    </tr>\n",
              "    <tr>\n",
              "      <th>13</th>\n",
              "      <td>4.39999</td>\n",
              "      <td>0.364800</td>\n",
              "    </tr>\n",
              "    <tr>\n",
              "      <th>14</th>\n",
              "      <td>4.30880</td>\n",
              "      <td>0.358616</td>\n",
              "    </tr>\n",
              "    <tr>\n",
              "      <th>15</th>\n",
              "      <td>4.50225</td>\n",
              "      <td>0.357721</td>\n",
              "    </tr>\n",
              "    <tr>\n",
              "      <th>16</th>\n",
              "      <td>3.86094</td>\n",
              "      <td>0.375739</td>\n",
              "    </tr>\n",
              "    <tr>\n",
              "      <th>17</th>\n",
              "      <td>4.42705</td>\n",
              "      <td>0.393227</td>\n",
              "    </tr>\n",
              "    <tr>\n",
              "      <th>18</th>\n",
              "      <td>4.40481</td>\n",
              "      <td>0.388530</td>\n",
              "    </tr>\n",
              "    <tr>\n",
              "      <th>19</th>\n",
              "      <td>3.90813</td>\n",
              "      <td>0.374030</td>\n",
              "    </tr>\n",
              "    <tr>\n",
              "      <th>20</th>\n",
              "      <td>4.34296</td>\n",
              "      <td>0.359512</td>\n",
              "    </tr>\n",
              "    <tr>\n",
              "      <th>21</th>\n",
              "      <td>4.37292</td>\n",
              "      <td>0.359022</td>\n",
              "    </tr>\n",
              "    <tr>\n",
              "      <th>22</th>\n",
              "      <td>4.25275</td>\n",
              "      <td>0.391017</td>\n",
              "    </tr>\n",
              "    <tr>\n",
              "      <th>23</th>\n",
              "      <td>4.19092</td>\n",
              "      <td>0.364604</td>\n",
              "    </tr>\n",
              "    <tr>\n",
              "      <th>24</th>\n",
              "      <td>4.27034</td>\n",
              "      <td>0.361206</td>\n",
              "    </tr>\n",
              "    <tr>\n",
              "      <th>25</th>\n",
              "      <td>3.95960</td>\n",
              "      <td>0.367858</td>\n",
              "    </tr>\n",
              "    <tr>\n",
              "      <th>26</th>\n",
              "      <td>4.40582</td>\n",
              "      <td>0.364842</td>\n",
              "    </tr>\n",
              "    <tr>\n",
              "      <th>27</th>\n",
              "      <td>4.20002</td>\n",
              "      <td>0.371425</td>\n",
              "    </tr>\n",
              "    <tr>\n",
              "      <th>28</th>\n",
              "      <td>4.41274</td>\n",
              "      <td>0.367649</td>\n",
              "    </tr>\n",
              "    <tr>\n",
              "      <th>29</th>\n",
              "      <td>3.91830</td>\n",
              "      <td>0.354818</td>\n",
              "    </tr>\n",
              "  </tbody>\n",
              "</table>\n",
              "</div>\n",
              "      <button class=\"colab-df-convert\" onclick=\"convertToInteractive('df-9e769a3d-32c0-4247-b15b-55f05caaa107')\"\n",
              "              title=\"Convert this dataframe to an interactive table.\"\n",
              "              style=\"display:none;\">\n",
              "        \n",
              "  <svg xmlns=\"http://www.w3.org/2000/svg\" height=\"24px\"viewBox=\"0 0 24 24\"\n",
              "       width=\"24px\">\n",
              "    <path d=\"M0 0h24v24H0V0z\" fill=\"none\"/>\n",
              "    <path d=\"M18.56 5.44l.94 2.06.94-2.06 2.06-.94-2.06-.94-.94-2.06-.94 2.06-2.06.94zm-11 1L8.5 8.5l.94-2.06 2.06-.94-2.06-.94L8.5 2.5l-.94 2.06-2.06.94zm10 10l.94 2.06.94-2.06 2.06-.94-2.06-.94-.94-2.06-.94 2.06-2.06.94z\"/><path d=\"M17.41 7.96l-1.37-1.37c-.4-.4-.92-.59-1.43-.59-.52 0-1.04.2-1.43.59L10.3 9.45l-7.72 7.72c-.78.78-.78 2.05 0 2.83L4 21.41c.39.39.9.59 1.41.59.51 0 1.02-.2 1.41-.59l7.78-7.78 2.81-2.81c.8-.78.8-2.07 0-2.86zM5.41 20L4 18.59l7.72-7.72 1.47 1.35L5.41 20z\"/>\n",
              "  </svg>\n",
              "      </button>\n",
              "      \n",
              "  <style>\n",
              "    .colab-df-container {\n",
              "      display:flex;\n",
              "      flex-wrap:wrap;\n",
              "      gap: 12px;\n",
              "    }\n",
              "\n",
              "    .colab-df-convert {\n",
              "      background-color: #E8F0FE;\n",
              "      border: none;\n",
              "      border-radius: 50%;\n",
              "      cursor: pointer;\n",
              "      display: none;\n",
              "      fill: #1967D2;\n",
              "      height: 32px;\n",
              "      padding: 0 0 0 0;\n",
              "      width: 32px;\n",
              "    }\n",
              "\n",
              "    .colab-df-convert:hover {\n",
              "      background-color: #E2EBFA;\n",
              "      box-shadow: 0px 1px 2px rgba(60, 64, 67, 0.3), 0px 1px 3px 1px rgba(60, 64, 67, 0.15);\n",
              "      fill: #174EA6;\n",
              "    }\n",
              "\n",
              "    [theme=dark] .colab-df-convert {\n",
              "      background-color: #3B4455;\n",
              "      fill: #D2E3FC;\n",
              "    }\n",
              "\n",
              "    [theme=dark] .colab-df-convert:hover {\n",
              "      background-color: #434B5C;\n",
              "      box-shadow: 0px 1px 3px 1px rgba(0, 0, 0, 0.15);\n",
              "      filter: drop-shadow(0px 1px 2px rgba(0, 0, 0, 0.3));\n",
              "      fill: #FFFFFF;\n",
              "    }\n",
              "  </style>\n",
              "\n",
              "      <script>\n",
              "        const buttonEl =\n",
              "          document.querySelector('#df-9e769a3d-32c0-4247-b15b-55f05caaa107 button.colab-df-convert');\n",
              "        buttonEl.style.display =\n",
              "          google.colab.kernel.accessAllowed ? 'block' : 'none';\n",
              "\n",
              "        async function convertToInteractive(key) {\n",
              "          const element = document.querySelector('#df-9e769a3d-32c0-4247-b15b-55f05caaa107');\n",
              "          const dataTable =\n",
              "            await google.colab.kernel.invokeFunction('convertToInteractive',\n",
              "                                                     [key], {});\n",
              "          if (!dataTable) return;\n",
              "\n",
              "          const docLinkHtml = 'Like what you see? Visit the ' +\n",
              "            '<a target=\"_blank\" href=https://colab.research.google.com/notebooks/data_table.ipynb>data table notebook</a>'\n",
              "            + ' to learn more about interactive tables.';\n",
              "          element.innerHTML = '';\n",
              "          dataTable['output_type'] = 'display_data';\n",
              "          await google.colab.output.renderOutput(dataTable, element);\n",
              "          const docLink = document.createElement('div');\n",
              "          docLink.innerHTML = docLinkHtml;\n",
              "          element.appendChild(docLink);\n",
              "        }\n",
              "      </script>\n",
              "    </div>\n",
              "  </div>\n",
              "  "
            ]
          },
          "metadata": {},
          "execution_count": 23
        }
      ]
    },
    {
      "cell_type": "markdown",
      "source": [
        "se generara un promedio de tiempo, y se compara los resultados de Python y Cython"
      ],
      "metadata": {
        "id": "eHDk97_AlO-t"
      }
    },
    {
      "cell_type": "code",
      "source": [
        "print(\"El promedio de tiempo en Python es de: \", resultados2['python'].mean())"
      ],
      "metadata": {
        "colab": {
          "base_uri": "https://localhost:8080/"
        },
        "id": "bvjL14RalS7l",
        "outputId": "af0152f8-1e29-4eb9-bac4-95e70f936edc"
      },
      "execution_count": 25,
      "outputs": [
        {
          "output_type": "stream",
          "name": "stdout",
          "text": [
            "El promedio de tiempo en Python es de:  4.2434373333333335\n"
          ]
        }
      ]
    },
    {
      "cell_type": "code",
      "source": [
        "print(\"El promedio de tiempo en Cython es de: \", resultados2['cython'].mean())"
      ],
      "metadata": {
        "colab": {
          "base_uri": "https://localhost:8080/"
        },
        "id": "NiIMZbdKlZEc",
        "outputId": "ca3e159f-c688-4e6b-8335-6be855ae7362"
      },
      "execution_count": 26,
      "outputs": [
        {
          "output_type": "stream",
          "name": "stdout",
          "text": [
            "El promedio de tiempo en Cython es de:  0.36580553333333327\n"
          ]
        }
      ]
    },
    {
      "cell_type": "markdown",
      "source": [
        "Se puede evidenciar que la ejecución en python es mucho mas lenta pues esta en un promedio de 4.2434 segundo, mientras que en Cython tiene mejor rendimiento, ya que este ni se acerca al segundo, este el promedio es de 0.3658 segundo por ejecución"
      ],
      "metadata": {
        "id": "Il3NpEXXmay2"
      }
    },
    {
      "cell_type": "code",
      "source": [
        "diferencia2 = resultados2['python'].mean() - resultados2['cython'].mean()\n",
        "print(\"La diferencia de tiempos es de: \", diferencia2)"
      ],
      "metadata": {
        "colab": {
          "base_uri": "https://localhost:8080/"
        },
        "id": "U7rxrnvQlfIE",
        "outputId": "bd33200d-617d-4d4a-c982-443daef4e995"
      },
      "execution_count": 27,
      "outputs": [
        {
          "output_type": "stream",
          "name": "stdout",
          "text": [
            "La diferencia de tiempos es de:  3.8776318\n"
          ]
        }
      ]
    },
    {
      "cell_type": "code",
      "source": [
        "resultados2.plot()\n",
        "plt.show()"
      ],
      "metadata": {
        "colab": {
          "base_uri": "https://localhost:8080/",
          "height": 265
        },
        "id": "JB9Sw0rDlnFF",
        "outputId": "8a074123-ab50-4eae-896b-0f85a8a53802"
      },
      "execution_count": 28,
      "outputs": [
        {
          "output_type": "display_data",
          "data": {
            "text/plain": [
              "<Figure size 432x288 with 1 Axes>"
            ],
            "image/png": "[encoded data removed]"
          },
          "metadata": {
            "needs_background": "light"
          }
        }
      ]
    },
    {
      "cell_type": "code",
      "source": [
        "resultados2.plot(kind = 'bar',figsize=(15,6))\n",
        "plt.show"
      ],
      "metadata": {
        "colab": {
          "base_uri": "https://localhost:8080/",
          "height": 394
        },
        "id": "ItI-GiVHlu0f",
        "outputId": "3333f9c6-870a-4255-fb66-0131920f5b03"
      },
      "execution_count": 39,
      "outputs": [
        {
          "output_type": "execute_result",
          "data": {
            "text/plain": [
              "<function matplotlib.pyplot.show(*args, **kw)>"
            ]
          },
          "metadata": {},
          "execution_count": 39
        },
        {
          "output_type": "display_data",
          "data": {
            "text/plain": [
              "<Figure size 1080x432 with 1 Axes>"
            ],
            "image/png": "[encoded data removed]"
          },
          "metadata": {
            "needs_background": "light"
          }
        }
      ]
    },
    {
      "cell_type": "code",
      "source": [
        "resultados2.plot(kind = 'bar', width=0.5, subplots=True,  figsize=(8,15))\n",
        "plt.show"
      ],
      "metadata": {
        "colab": {
          "base_uri": "https://localhost:8080/",
          "height": 899
        },
        "id": "PQ9QiGknlpFt",
        "outputId": "b1dc5dd0-1c3d-4437-8454-a98a6366d190"
      },
      "execution_count": 40,
      "outputs": [
        {
          "output_type": "execute_result",
          "data": {
            "text/plain": [
              "<function matplotlib.pyplot.show(*args, **kw)>"
            ]
          },
          "metadata": {},
          "execution_count": 40
        },
        {
          "output_type": "display_data",
          "data": {
            "text/plain": [
              "<Figure size 576x1080 with 2 Axes>"
            ],
            "image/png": "[encoded data removed]"
          },
          "metadata": {
            "needs_background": "light"
          }
        }
      ]
    },
    {
      "cell_type": "markdown",
      "source": [
        "siendo cython aproximadamente 3.8776 segundos mas rapido que python"
      ],
      "metadata": {
        "id": "DS56A9bmmLAO"
      }
    },
    {
      "cell_type": "markdown",
      "source": [
        "Se concluye que para este trabajo de usar el metodo de montecarlo para estimar el valor de pi, es muy eficiente usar Cython en vez de python, ya que al analizar los datos de tiempo de ejecución se evidencia que en cython no hay ningún tiempo que supere el segundo, es mas, lo maximo que se acerca es al medio segundo, mientras que las ejecuciones en python se estan demorando mas de 4 segundos, lo que es mucho mas tiempo.\n",
        "\n",
        "Por lo que es buena decisión convertir los programas de Python a Cython "
      ],
      "metadata": {
        "id": "ISh5sfV8muiv"
      }
    },
    {
      "cell_type": "markdown",
      "source": [
        "##Referencias:\n",
        "https://pythonprogramming.net/introduction-and-basics-cython-tutorial/\n",
        "\n",
        "https://cython.org/\n",
        "\n",
        "https://learn.microsoft.com/es-es/azure/databricks/kb/python/cython\n",
        "\n",
        "https://programacionpython80889555.wordpress.com/2021/05/11/estimacion-del-valor-de-pi-mediante-el-metodo-montecarlo-en-python/#:~:text=El%20Programador%20Chapuzas-,ESTIMACI%C3%93N%20DEL%20VALOR%20DE%20%C2%ABPI%C2%BB%20MEDIANTE%20EL,M%C3%89TODO%20%C2%ABMONTECARLO%C2%BB%20EN%20PYTHON.&text=El%20m%C3%A9todo%20%C2%ABMontecarlo%C2%BB%20consiste%20en,costosas%20de%20evaluar%20con%20exactitud.\n"
      ],
      "metadata": {
        "id": "ygKp0Ew0QRS7"
      }
    }
  ]
}